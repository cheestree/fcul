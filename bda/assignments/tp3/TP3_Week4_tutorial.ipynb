{
 "cells": [
  {
   "cell_type": "markdown",
   "id": "0073c5ac",
   "metadata": {},
   "source": [
    "# Advanced Databases 2025/2026 \n",
    "### Prof. Márcia Barros and Prof. Francisco Couto\n",
    "TP3 - Week4 \n"
   ]
  },
  {
   "cell_type": "markdown",
   "id": "ed9cabbf",
   "metadata": {},
   "source": [
    "PART 1 - Follow the tutorial in https://www.w3schools.com/python/python_mongodb_getstarted.asp and solve the exercises bellow, using the provided dataset dias_catalogue.csv."
   ]
  },
  {
   "cell_type": "markdown",
   "id": "482039ee",
   "metadata": {},
   "source": [
    "# Exercise 1 \n",
    "Complete the following code in order to convert the CSV dias_catalogue.csv to a JSON file, with the following structure:\n",
    "```\n",
    "{\n",
    "  \"name\": <string>,\n",
    "  \"position\": {\n",
    "    \"RA_ICRS\": <number>,\n",
    "    \"DE_ICRS\": <number>,\n",
    "    \"Plx\": <number>,\n",
    "    \"dist_PLX\": <number>\n",
    "  },\n",
    "  \"features\": {\n",
    "    \"r50\": <number>,\n",
    "    \"Vr\": <number>,\n",
    "    \"age\": <number>,\n",
    "    \"FeH\": <number>,\n",
    "    \"Diam_pc\": <number>\n",
    "  }\n",
    "}\n",
    "```"
   ]
  },
  {
   "cell_type": "code",
   "execution_count": null,
   "id": "4c55ef86",
   "metadata": {},
   "outputs": [],
   "source": [
    "import pandas as pd\n",
    "import sys\n",
    "\n",
    "# read the dataset into a pandas dataframe\n",
    "df = pd.read_csv('dias_catalogue.csv')\n",
    "\n",
    "# Create Nested dict (Object)\n",
    "df['position'] = df[[________]].apply(\n",
    "    lambda s: s.___(), axis=1\n",
    ")\n",
    "\n",
    "df['features'] = df[[________]].apply(\n",
    "    lambda s: s.___(), axis=1\n",
    ")\n",
    "\n",
    "# Write out Name and features to a json file\n",
    "df[['name', 'position', 'features']].to_json(\"dias_catalogue_filtered.json\", \n",
    "    orient = \"______\", \n",
    "    date_format = \"______\", \n",
    "    double_precision = 10, \n",
    "    force_ascii = True, \n",
    "    date_unit = \"ms\", \n",
    "    default_handler = None, \n",
    "    indent=2\n",
    ")"
   ]
  },
  {
   "cell_type": "markdown",
   "id": "a2586b42",
   "metadata": {},
   "source": [
    "### Exercise 2 - Connect to a Database\n",
    "\n",
    "Create a mongoDB connection using python (pyMongo library). \n",
    "Create a collection called star_database\n",
    "Use pip install pymongo if you don't have the pymongo library installed."
   ]
  },
  {
   "cell_type": "markdown",
   "id": "f1bdf9af",
   "metadata": {},
   "source": [
    "### Exercise 3 - Insert documents\n",
    "Insert at all star records (using the JSON file) into the collection using insert_many().\n",
    "Verify the total number of documents using:\n",
    "\n",
    "``` print(collection.count_documents({}))  ```\n"
   ]
  },
  {
   "cell_type": "markdown",
   "id": "f0a287bd",
   "metadata": {},
   "source": [
    "### Exercise 4 - Find all documents\n",
    "\n",
    "Write a query using find() to retrieve all the documents in the collection, and print them out (one per line). Use a loop like:\n",
    "\n",
    "```\n",
    "for doc in collection.find():\n",
    "    print(doc)\n",
    "```\n"
   ]
  },
  {
   "cell_type": "markdown",
   "id": "b24aa7be",
   "metadata": {},
   "source": [
    "### Exercise 5 - Query with filters\n",
    "Write queries to:\n",
    "\n",
    "* Find stars with features.age > 5.\n",
    "\n",
    "* Find stars with position.dist_PLX < 100.\n",
    "\n",
    "* Find stars with features.FeH < -0.5.\n",
    "\n",
    "* Combine conditions: age > 7 and dist_PLX < 100."
   ]
  },
  {
   "cell_type": "markdown",
   "id": "3829ebb1",
   "metadata": {},
   "source": [
    "### Exercise 6 - Sort and limit results\n",
    "\n",
    "Find the 3 oldest stars (highest features.age).\n",
    "\n",
    "Find the 5 nearest stars (smallest position.dist_PLX).\n",
    "\n",
    "Use .sort(...).limit(...)."
   ]
  },
  {
   "cell_type": "markdown",
   "id": "e530c729",
   "metadata": {},
   "source": [
    "### Exercise 7 - Update documents\n",
    "\n",
    "Multiply all features.Diam_pc values by 2 using $mul.\n",
    "\n",
    "Add a new field features.luminosity = 1.0 for stars with features.FeH > 0 using $set.\n",
    "\n",
    "Check that updates worked."
   ]
  },
  {
   "cell_type": "markdown",
   "id": "8abf7af2",
   "metadata": {},
   "source": [
    "### Exercise 8 - Delete documents\n",
    "\n",
    "Delete all stars where position.dist_PLX > 1000.\n",
    "\n",
    "Delete one star by its name.\n",
    "\n",
    "Print how many documents remain."
   ]
  },
  {
   "cell_type": "markdown",
   "id": "e568050c",
   "metadata": {},
   "source": [
    "### Exercise 9 - Aggregation — statistics\n",
    "\n",
    "Use the aggregation pipeline to:\n",
    "\n",
    "Compute the average age of all stars.\n",
    "\n",
    "Group stars into metallicity bins:\n",
    "\n",
    "* FeH < -1\n",
    "\n",
    "* -1 ≤ FeH ≤ 0\n",
    "\n",
    "* FeH > 0\n",
    "Count how many stars in each bin.\n",
    "\n",
    "Find the maximum and minimum position.dist_PLX"
   ]
  },
  {
   "cell_type": "markdown",
   "id": "6637b191",
   "metadata": {},
   "source": [
    "### Exercise 10 - Aggregation with computed fields\n",
    "\n",
    "Use $project to create new fields:\n",
    "\n",
    "* features.radius_pc = features.Diam_pc / 2.\n",
    "\n",
    "* position.dist_ly = position.dist_PLX × 3.26 (convert parsecs to light-years).\n",
    "\n",
    "* Show only name, features.Diam_pc, features.radius_pc, and position.dist_ly."
   ]
  },
  {
   "cell_type": "markdown",
   "id": "92b9d776",
   "metadata": {},
   "source": [
    "### Exercise 11 - Projection and nested fields\n",
    "\n",
    "Write queries to:\n",
    "\n",
    "* Show only name, position.RA_ICRS, and position.DE_ICRS.\n",
    "\n",
    "* Show all fields except _id.\n",
    "\n",
    "* Show the full features object but exclude position.plx."
   ]
  }
 ],
 "metadata": {
  "kernelspec": {
   "display_name": "Python 3",
   "language": "python",
   "name": "python3"
  },
  "language_info": {
   "codemirror_mode": {
    "name": "ipython",
    "version": 3
   },
   "file_extension": ".py",
   "mimetype": "text/x-python",
   "name": "python",
   "nbconvert_exporter": "python",
   "pygments_lexer": "ipython3",
   "version": "3.12.2"
  }
 },
 "nbformat": 4,
 "nbformat_minor": 5
}

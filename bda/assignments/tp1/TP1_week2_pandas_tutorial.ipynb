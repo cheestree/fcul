{
 "cells": [
  {
   "cell_type": "markdown",
   "id": "13025639",
   "metadata": {},
   "source": [
    "# Advanced Databases 2025/2026 \n",
    "### Prof. Márcia Barros and Prof. Francisco Couto\n",
    "TP1 - Week2 \n"
   ]
  },
  {
   "cell_type": "markdown",
   "id": "9d77a700",
   "metadata": {},
   "source": [
    "Follow the tutorial in https://www.w3schools.com/python/pandas/default.asp and solve the exercises bellow, using the provided dataset dias_catalogue.csv."
   ]
  },
  {
   "cell_type": "markdown",
   "id": "50ed8ae8",
   "metadata": {},
   "source": [
    "### Exercise 1 – Load and Inspect Data\n",
    "\n",
    "Load the dataset into a Pandas DataFrame and display the first 5 rows.\n",
    "Hint: use pd.read_csv() and .head()."
   ]
  },
  {
   "cell_type": "markdown",
   "id": "e37b595e",
   "metadata": {},
   "source": [
    "### Exercise 2 – Dataset Info\n",
    "\n",
    "Print the number of rows and columns, and check the data types of each column.\n",
    "Hint: use .shape and .info()."
   ]
  },
  {
   "cell_type": "markdown",
   "id": "82fad2e0",
   "metadata": {},
   "source": [
    "### Exercise 3 – Select Columns\n",
    "\n",
    "Display only the name, RA_ICRS, and DE_ICRS columns for the first 10 objects.\n",
    "Hint: use df[['col1', 'col2']]."
   ]
  },
  {
   "cell_type": "markdown",
   "id": "f75b423f",
   "metadata": {},
   "source": [
    "### Exercise 4 – Filtering\n",
    "\n",
    "Find all objects with Plx > 1 (parallax greater than 1). Show their name, Plx, and dist_PLX.\n",
    "Hint: use conditional filtering df[df['Plx'] > 1]."
   ]
  },
  {
   "cell_type": "markdown",
   "id": "71075729",
   "metadata": {},
   "source": [
    "### Exercise 5 – Sorting\n",
    "\n",
    "Sort the dataset by age in descending order and show the first 5 rows.\n",
    "Hint: use .sort_values()."
   ]
  },
  {
   "cell_type": "markdown",
   "id": "c58702b2",
   "metadata": {},
   "source": [
    "### Exercise 6 – Handling Missing Data\n",
    "\n",
    "Check how many missing values (NaN) each column has.\n",
    "Hint: use .isnull().sum()."
   ]
  },
  {
   "cell_type": "markdown",
   "id": "8a9f4efd",
   "metadata": {},
   "source": [
    "### Exercise 7 – Statistical Summary\n",
    "\n",
    "Show the mean, median, and standard deviation of the Diam_pc column.\n",
    "Hint: use .mean(), .median(), .std()."
   ]
  },
  {
   "cell_type": "markdown",
   "id": "e1172d16",
   "metadata": {},
   "source": [
    "### Exercise 8 – Grouping\n",
    "\n",
    "Group the dataset by flagdispPM and calculate the average sigPM for each group.\n",
    "Hint: use .groupby()."
   ]
  },
  {
   "cell_type": "markdown",
   "id": "0cc6ef12",
   "metadata": {},
   "source": [
    "### Exercise 9 – Creating a New Column\n",
    "\n",
    "Create a new column DistMod that estimates the distance modulus using dist_PLX:\n",
    "\n",
    "\\text{DistMod} = 5 \\times \\log_{10}(\\text{dist_PLX}) - 5\n",
    "\n",
    "(Ignore NaN values.)"
   ]
  },
  {
   "cell_type": "markdown",
   "id": "5a859061",
   "metadata": {},
   "source": [
    "### Exercise 10 – Exporting\n",
    "\n",
    "Save only the columns name, RA_ICRS, DE_ICRS, dist_PLX, Diam_pc into a new CSV file called subset.csv.\n",
    "Hint: use .to_csv()."
   ]
  }
 ],
 "metadata": {
  "language_info": {
   "name": "python"
  }
 },
 "nbformat": 4,
 "nbformat_minor": 5
}
